{
 "cells": [
  {
   "cell_type": "markdown",
   "id": "animated-appreciation",
   "metadata": {
    "id": "animated-appreciation"
   },
   "source": [
    "### Getting Setup (On Google Colab)"
   ]
  },
  {
   "cell_type": "markdown",
   "id": "engaged-contrast",
   "metadata": {
    "id": "engaged-contrast"
   },
   "source": [
    "* Begin by installing some pip packages and the java development kit."
   ]
  },
  {
   "cell_type": "code",
   "execution_count": 1,
   "id": "specified-virginia",
   "metadata": {
    "colab": {
     "base_uri": "https://localhost:8080/"
    },
    "executionInfo": {
     "elapsed": 56006,
     "status": "ok",
     "timestamp": 1717441189961,
     "user": {
      "displayName": "Dhuha Rashid",
      "userId": "10823393963758851424"
     },
     "user_tz": -330
    },
    "id": "specified-virginia",
    "outputId": "725ca2a4-0182-4d6a-b12f-046c607df007"
   },
   "outputs": [],
   "source": [
    "!pip install pyspark --quiet\n",
    "#!pip install -U -q PyDrive --quiet\n",
    "#!apt install openjdk-8-jdk-headless &> /dev/null"
   ]
  },
  {
   "cell_type": "markdown",
   "id": "entire-laptop",
   "metadata": {
    "id": "entire-laptop"
   },
   "source": [
    "* Then set the java environmental variable"
   ]
  },
  {
   "cell_type": "raw",
   "id": "ef947a62-9d14-4f8a-9854-f22994f4b759",
   "metadata": {
    "id": "Up-otH4uLK1E"
   },
   "source": [
    "RDD -- Resilient Distributed Datasets"
   ]
  },
  {
   "cell_type": "code",
   "execution_count": 5,
   "id": "adjacent-archives",
   "metadata": {
    "id": "adjacent-archives"
   },
   "outputs": [],
   "source": [
    "import os\n",
    "os.environ[\"JAVA_HOME\"] = \"/lib/jvm/java-11-openjdk-amd64\""
   ]
  },
  {
   "cell_type": "markdown",
   "id": "homeless-beginning",
   "metadata": {
    "id": "homeless-beginning"
   },
   "source": [
    "* Then connect to a SparkSession, setting the spark ui port to `4050`."
   ]
  },
  {
   "cell_type": "code",
   "execution_count": 8,
   "id": "increasing-preliminary",
   "metadata": {
    "id": "increasing-preliminary"
   },
   "outputs": [
    {
     "ename": "KeyboardInterrupt",
     "evalue": "",
     "output_type": "error",
     "traceback": [
      "\u001b[1;31m---------------------------------------------------------------------------\u001b[0m",
      "\u001b[1;31mKeyboardInterrupt\u001b[0m                         Traceback (most recent call last)",
      "Cell \u001b[1;32mIn[8], line 4\u001b[0m\n\u001b[0;32m      1\u001b[0m \u001b[38;5;28;01mfrom\u001b[39;00m \u001b[38;5;21;01mpyspark\u001b[39;00m \u001b[38;5;28;01mimport\u001b[39;00m SparkContext, SparkConf\n\u001b[0;32m      3\u001b[0m conf \u001b[38;5;241m=\u001b[39m SparkConf()\u001b[38;5;241m.\u001b[39mset(\u001b[38;5;124m'\u001b[39m\u001b[38;5;124mspark.ui.port\u001b[39m\u001b[38;5;124m'\u001b[39m, \u001b[38;5;124m'\u001b[39m\u001b[38;5;124m4050\u001b[39m\u001b[38;5;124m'\u001b[39m)\u001b[38;5;241m.\u001b[39msetAppName(\u001b[38;5;124m\"\u001b[39m\u001b[38;5;124mfilms\u001b[39m\u001b[38;5;124m\"\u001b[39m)\u001b[38;5;241m.\u001b[39msetMaster(\u001b[38;5;124m\"\u001b[39m\u001b[38;5;124mlocal[2]\u001b[39m\u001b[38;5;124m\"\u001b[39m)\n\u001b[1;32m----> 4\u001b[0m sc \u001b[38;5;241m=\u001b[39m \u001b[43mSparkContext\u001b[49m\u001b[38;5;241;43m.\u001b[39;49m\u001b[43mgetOrCreate\u001b[49m\u001b[43m(\u001b[49m\u001b[43mconf\u001b[49m\u001b[38;5;241;43m=\u001b[39;49m\u001b[43mconf\u001b[49m\u001b[43m)\u001b[49m\n",
      "File \u001b[1;32m~\\anaconda3\\Lib\\site-packages\\pyspark\\context.py:515\u001b[0m, in \u001b[0;36mSparkContext.getOrCreate\u001b[1;34m(cls, conf)\u001b[0m\n\u001b[0;32m    513\u001b[0m \u001b[38;5;28;01mwith\u001b[39;00m SparkContext\u001b[38;5;241m.\u001b[39m_lock:\n\u001b[0;32m    514\u001b[0m     \u001b[38;5;28;01mif\u001b[39;00m SparkContext\u001b[38;5;241m.\u001b[39m_active_spark_context \u001b[38;5;129;01mis\u001b[39;00m \u001b[38;5;28;01mNone\u001b[39;00m:\n\u001b[1;32m--> 515\u001b[0m         \u001b[43mSparkContext\u001b[49m\u001b[43m(\u001b[49m\u001b[43mconf\u001b[49m\u001b[38;5;241;43m=\u001b[39;49m\u001b[43mconf\u001b[49m\u001b[43m \u001b[49m\u001b[38;5;129;43;01mor\u001b[39;49;00m\u001b[43m \u001b[49m\u001b[43mSparkConf\u001b[49m\u001b[43m(\u001b[49m\u001b[43m)\u001b[49m\u001b[43m)\u001b[49m\n\u001b[0;32m    516\u001b[0m     \u001b[38;5;28;01massert\u001b[39;00m SparkContext\u001b[38;5;241m.\u001b[39m_active_spark_context \u001b[38;5;129;01mis\u001b[39;00m \u001b[38;5;129;01mnot\u001b[39;00m \u001b[38;5;28;01mNone\u001b[39;00m\n\u001b[0;32m    517\u001b[0m     \u001b[38;5;28;01mreturn\u001b[39;00m SparkContext\u001b[38;5;241m.\u001b[39m_active_spark_context\n",
      "File \u001b[1;32m~\\anaconda3\\Lib\\site-packages\\pyspark\\context.py:201\u001b[0m, in \u001b[0;36mSparkContext.__init__\u001b[1;34m(self, master, appName, sparkHome, pyFiles, environment, batchSize, serializer, conf, gateway, jsc, profiler_cls, udf_profiler_cls, memory_profiler_cls)\u001b[0m\n\u001b[0;32m    195\u001b[0m \u001b[38;5;28;01mif\u001b[39;00m gateway \u001b[38;5;129;01mis\u001b[39;00m \u001b[38;5;129;01mnot\u001b[39;00m \u001b[38;5;28;01mNone\u001b[39;00m \u001b[38;5;129;01mand\u001b[39;00m gateway\u001b[38;5;241m.\u001b[39mgateway_parameters\u001b[38;5;241m.\u001b[39mauth_token \u001b[38;5;129;01mis\u001b[39;00m \u001b[38;5;28;01mNone\u001b[39;00m:\n\u001b[0;32m    196\u001b[0m     \u001b[38;5;28;01mraise\u001b[39;00m \u001b[38;5;167;01mValueError\u001b[39;00m(\n\u001b[0;32m    197\u001b[0m         \u001b[38;5;124m\"\u001b[39m\u001b[38;5;124mYou are trying to pass an insecure Py4j gateway to Spark. This\u001b[39m\u001b[38;5;124m\"\u001b[39m\n\u001b[0;32m    198\u001b[0m         \u001b[38;5;124m\"\u001b[39m\u001b[38;5;124m is not allowed as it is a security risk.\u001b[39m\u001b[38;5;124m\"\u001b[39m\n\u001b[0;32m    199\u001b[0m     )\n\u001b[1;32m--> 201\u001b[0m \u001b[43mSparkContext\u001b[49m\u001b[38;5;241;43m.\u001b[39;49m\u001b[43m_ensure_initialized\u001b[49m\u001b[43m(\u001b[49m\u001b[38;5;28;43mself\u001b[39;49m\u001b[43m,\u001b[49m\u001b[43m \u001b[49m\u001b[43mgateway\u001b[49m\u001b[38;5;241;43m=\u001b[39;49m\u001b[43mgateway\u001b[49m\u001b[43m,\u001b[49m\u001b[43m \u001b[49m\u001b[43mconf\u001b[49m\u001b[38;5;241;43m=\u001b[39;49m\u001b[43mconf\u001b[49m\u001b[43m)\u001b[49m\n\u001b[0;32m    202\u001b[0m \u001b[38;5;28;01mtry\u001b[39;00m:\n\u001b[0;32m    203\u001b[0m     \u001b[38;5;28mself\u001b[39m\u001b[38;5;241m.\u001b[39m_do_init(\n\u001b[0;32m    204\u001b[0m         master,\n\u001b[0;32m    205\u001b[0m         appName,\n\u001b[1;32m   (...)\u001b[0m\n\u001b[0;32m    215\u001b[0m         memory_profiler_cls,\n\u001b[0;32m    216\u001b[0m     )\n",
      "File \u001b[1;32m~\\anaconda3\\Lib\\site-packages\\pyspark\\context.py:436\u001b[0m, in \u001b[0;36mSparkContext._ensure_initialized\u001b[1;34m(cls, instance, gateway, conf)\u001b[0m\n\u001b[0;32m    434\u001b[0m \u001b[38;5;28;01mwith\u001b[39;00m SparkContext\u001b[38;5;241m.\u001b[39m_lock:\n\u001b[0;32m    435\u001b[0m     \u001b[38;5;28;01mif\u001b[39;00m \u001b[38;5;129;01mnot\u001b[39;00m SparkContext\u001b[38;5;241m.\u001b[39m_gateway:\n\u001b[1;32m--> 436\u001b[0m         SparkContext\u001b[38;5;241m.\u001b[39m_gateway \u001b[38;5;241m=\u001b[39m gateway \u001b[38;5;129;01mor\u001b[39;00m \u001b[43mlaunch_gateway\u001b[49m\u001b[43m(\u001b[49m\u001b[43mconf\u001b[49m\u001b[43m)\u001b[49m\n\u001b[0;32m    437\u001b[0m         SparkContext\u001b[38;5;241m.\u001b[39m_jvm \u001b[38;5;241m=\u001b[39m SparkContext\u001b[38;5;241m.\u001b[39m_gateway\u001b[38;5;241m.\u001b[39mjvm\n\u001b[0;32m    439\u001b[0m     \u001b[38;5;28;01mif\u001b[39;00m instance:\n",
      "File \u001b[1;32m~\\anaconda3\\Lib\\site-packages\\pyspark\\java_gateway.py:104\u001b[0m, in \u001b[0;36mlaunch_gateway\u001b[1;34m(conf, popen_kwargs)\u001b[0m\n\u001b[0;32m    102\u001b[0m \u001b[38;5;66;03m# Wait for the file to appear, or for the process to exit, whichever happens first.\u001b[39;00m\n\u001b[0;32m    103\u001b[0m \u001b[38;5;28;01mwhile\u001b[39;00m \u001b[38;5;129;01mnot\u001b[39;00m proc\u001b[38;5;241m.\u001b[39mpoll() \u001b[38;5;129;01mand\u001b[39;00m \u001b[38;5;129;01mnot\u001b[39;00m os\u001b[38;5;241m.\u001b[39mpath\u001b[38;5;241m.\u001b[39misfile(conn_info_file):\n\u001b[1;32m--> 104\u001b[0m     \u001b[43mtime\u001b[49m\u001b[38;5;241;43m.\u001b[39;49m\u001b[43msleep\u001b[49m\u001b[43m(\u001b[49m\u001b[38;5;241;43m0.1\u001b[39;49m\u001b[43m)\u001b[49m\n\u001b[0;32m    106\u001b[0m \u001b[38;5;28;01mif\u001b[39;00m \u001b[38;5;129;01mnot\u001b[39;00m os\u001b[38;5;241m.\u001b[39mpath\u001b[38;5;241m.\u001b[39misfile(conn_info_file):\n\u001b[0;32m    107\u001b[0m     \u001b[38;5;28;01mraise\u001b[39;00m PySparkRuntimeError(\n\u001b[0;32m    108\u001b[0m         error_class\u001b[38;5;241m=\u001b[39m\u001b[38;5;124m\"\u001b[39m\u001b[38;5;124mJAVA_GATEWAY_EXITED\u001b[39m\u001b[38;5;124m\"\u001b[39m,\n\u001b[0;32m    109\u001b[0m         message_parameters\u001b[38;5;241m=\u001b[39m{},\n\u001b[0;32m    110\u001b[0m     )\n",
      "\u001b[1;31mKeyboardInterrupt\u001b[0m: "
     ]
    }
   ],
   "source": [
    "from pyspark import SparkContext, SparkConf\n",
    "\n",
    "conf = SparkConf().set('spark.ui.port', '4050').setAppName(\"films\").setMaster(\"local[2]\")\n",
    "sc = SparkContext.getOrCreate(conf=conf)"
   ]
  },
  {
   "cell_type": "markdown",
   "id": "comparative-restriction",
   "metadata": {
    "id": "comparative-restriction"
   },
   "source": [
    "* Then we need to install ngrok which will allow us to place our local spark ui on the web."
   ]
  },
  {
   "cell_type": "code",
   "execution_count": null,
   "id": "disabled-radius",
   "metadata": {
    "id": "disabled-radius"
   },
   "outputs": [],
   "source": [
    "!wget https://bin.equinox.io/c/4VmDzA7iaHb/ngrok-stable-linux-amd64.zip &> /dev/null\n",
    "!unzip ngrok-stable-linux-amd64.zip &> /dev/null\n",
    "get_ipython().system_raw('./ngrok http 4050 &')"
   ]
  },
  {
   "cell_type": "markdown",
   "id": "proper-longer",
   "metadata": {
    "id": "proper-longer"
   },
   "source": [
    "* And finally we get a link our Spark UI"
   ]
  },
  {
   "cell_type": "code",
   "execution_count": null,
   "id": "buried-blink",
   "metadata": {
    "colab": {
     "base_uri": "https://localhost:8080/"
    },
    "executionInfo": {
     "elapsed": 46,
     "status": "ok",
     "timestamp": 1686019863754,
     "user": {
      "displayName": "Pushkala V",
      "userId": "05294077365992213902"
     },
     "user_tz": -330
    },
    "id": "buried-blink",
    "outputId": "bf9b6b8e-d0a6-4f63-e414-63ff73ac0f4f"
   },
   "outputs": [
    {
     "name": "stdout",
     "output_type": "stream",
     "text": [
      "Traceback (most recent call last):\n",
      "  File \"<string>\", line 1, in <module>\n",
      "IndexError: list index out of range\n"
     ]
    }
   ],
   "source": [
    "!curl -s http://localhost:4040/api/tunnels | python3 -c \\\n",
    "    \"import sys, json; print(json.load(sys.stdin)['tunnels'][0]['public_url'])\""
   ]
  },
  {
   "cell_type": "markdown",
   "id": "opposed-oliver",
   "metadata": {
    "id": "opposed-oliver"
   },
   "source": [
    "### Looking Under the Hood"
   ]
  },
  {
   "cell_type": "markdown",
   "id": "logical-catholic",
   "metadata": {
    "id": "logical-catholic"
   },
   "source": [
    "Now  let's again create an RDD from our movie records."
   ]
  },
  {
   "cell_type": "code",
   "execution_count": null,
   "id": "charitable-assets",
   "metadata": {
    "id": "charitable-assets"
   },
   "outputs": [],
   "source": [
    "movies = ['dark knight', 'dunkirk', 'pulp fiction', 'avatar']"
   ]
  },
  {
   "cell_type": "code",
   "execution_count": null,
   "id": "optimum-terror",
   "metadata": {
    "colab": {
     "base_uri": "https://localhost:8080/"
    },
    "executionInfo": {
     "elapsed": 690,
     "status": "ok",
     "timestamp": 1717441232224,
     "user": {
      "displayName": "Dhuha Rashid",
      "userId": "10823393963758851424"
     },
     "user_tz": -330
    },
    "id": "optimum-terror",
    "outputId": "39f20c72-8624-4166-c7af-a4505a0c2d15"
   },
   "outputs": [
    {
     "data": {
      "text/plain": [
       "ParallelCollectionRDD[0] at readRDDFromFile at PythonRDD.scala:289"
      ]
     },
     "execution_count": 5,
     "metadata": {},
     "output_type": "execute_result"
    }
   ],
   "source": [
    "movies_rdd = sc.parallelize(movies)\n",
    "movies_rdd"
   ]
  },
  {
   "cell_type": "markdown",
   "id": "entertaining-investor",
   "metadata": {
    "id": "entertaining-investor"
   },
   "source": [
    "And then let's capitalize the movies, and select the movies that begin with `d`."
   ]
  },
  {
   "cell_type": "code",
   "execution_count": null,
   "id": "aJa7JA_YmfVA",
   "metadata": {
    "colab": {
     "base_uri": "https://localhost:8080/"
    },
    "executionInfo": {
     "elapsed": 1276,
     "status": "ok",
     "timestamp": 1717441237022,
     "user": {
      "displayName": "Dhuha Rashid",
      "userId": "10823393963758851424"
     },
     "user_tz": -330
    },
    "id": "aJa7JA_YmfVA",
    "outputId": "e8ba1ce0-b6da-4515-dee0-84723002160e"
   },
   "outputs": [
    {
     "data": {
      "text/plain": [
       "['dark knight', 'dunkirk', 'pulp fiction', 'avatar']"
      ]
     },
     "execution_count": 6,
     "metadata": {},
     "output_type": "execute_result"
    }
   ],
   "source": [
    "movies_rdd.collect() #action"
   ]
  },
  {
   "cell_type": "code",
   "execution_count": null,
   "id": "8roq2TrUme2d",
   "metadata": {
    "colab": {
     "base_uri": "https://localhost:8080/"
    },
    "executionInfo": {
     "elapsed": 2712,
     "status": "ok",
     "timestamp": 1717441243869,
     "user": {
      "displayName": "Dhuha Rashid",
      "userId": "10823393963758851424"
     },
     "user_tz": -330
    },
    "id": "8roq2TrUme2d",
    "outputId": "31c94e09-94e5-41b5-8bd4-dd7f308a0d10"
   },
   "outputs": [
    {
     "data": {
      "text/plain": [
       "['dark knight', 'dunkirk', 'pulp fiction']"
      ]
     },
     "execution_count": 7,
     "metadata": {},
     "output_type": "execute_result"
    }
   ],
   "source": [
    "movies_rdd.take(3) #actions\n"
   ]
  },
  {
   "cell_type": "code",
   "execution_count": null,
   "id": "7l0vwchInAiP",
   "metadata": {
    "colab": {
     "base_uri": "https://localhost:8080/",
     "height": 36
    },
    "executionInfo": {
     "elapsed": 485,
     "status": "ok",
     "timestamp": 1717441246949,
     "user": {
      "displayName": "Dhuha Rashid",
      "userId": "10823393963758851424"
     },
     "user_tz": -330
    },
    "id": "7l0vwchInAiP",
    "outputId": "01d8bd32-a262-4903-fb0b-02c876c300c6"
   },
   "outputs": [
    {
     "data": {
      "application/vnd.google.colaboratory.intrinsic+json": {
       "type": "string"
      },
      "text/plain": [
       "'Dark Knight'"
      ]
     },
     "execution_count": 8,
     "metadata": {},
     "output_type": "execute_result"
    }
   ],
   "source": [
    "movies[0].title()"
   ]
  },
  {
   "cell_type": "code",
   "execution_count": null,
   "id": "cRWXgCXsVsud",
   "metadata": {
    "colab": {
     "base_uri": "https://localhost:8080/"
    },
    "executionInfo": {
     "elapsed": 446,
     "status": "ok",
     "timestamp": 1702708571710,
     "user": {
      "displayName": "Rama Chandra Kotturu",
      "userId": "02243285469857073193"
     },
     "user_tz": -330
    },
    "id": "cRWXgCXsVsud",
    "outputId": "41b78809-2bb3-46a7-f6f2-682a83176b91"
   },
   "outputs": [
    {
     "data": {
      "text/plain": [
       "['dark knight', 'dunkirk', 'pulp fiction', 'avatar']"
      ]
     },
     "execution_count": 13,
     "metadata": {},
     "output_type": "execute_result"
    }
   ],
   "source": [
    "movies"
   ]
  },
  {
   "cell_type": "code",
   "execution_count": null,
   "id": "qDEH6-7-VsNz",
   "metadata": {
    "id": "qDEH6-7-VsNz"
   },
   "outputs": [],
   "source": [
    "transform=lambda i:i.title()\n",
    "movies_title=[transform(i) for i in movies]"
   ]
  },
  {
   "cell_type": "code",
   "execution_count": null,
   "id": "uTjFpZ3vWBmJ",
   "metadata": {
    "colab": {
     "base_uri": "https://localhost:8080/"
    },
    "executionInfo": {
     "elapsed": 657,
     "status": "ok",
     "timestamp": 1717441258204,
     "user": {
      "displayName": "Dhuha Rashid",
      "userId": "10823393963758851424"
     },
     "user_tz": -330
    },
    "id": "uTjFpZ3vWBmJ",
    "outputId": "3ad04a14-054b-465f-d9d1-f37d84ac4358"
   },
   "outputs": [
    {
     "data": {
      "text/plain": [
       "['Dark Knight', 'Dunkirk', 'Pulp Fiction', 'Avatar']"
      ]
     },
     "execution_count": 10,
     "metadata": {},
     "output_type": "execute_result"
    }
   ],
   "source": [
    "movies_title"
   ]
  },
  {
   "cell_type": "code",
   "execution_count": null,
   "id": "IzfUqE4DnAGL",
   "metadata": {
    "id": "IzfUqE4DnAGL"
   },
   "outputs": [],
   "source": [
    "movies_title_rdd=movies_rdd.map(transform) ## transformation"
   ]
  },
  {
   "cell_type": "code",
   "execution_count": null,
   "id": "JOkxFkUEYjTw",
   "metadata": {
    "colab": {
     "base_uri": "https://localhost:8080/"
    },
    "executionInfo": {
     "elapsed": 801,
     "status": "ok",
     "timestamp": 1717441262284,
     "user": {
      "displayName": "Dhuha Rashid",
      "userId": "10823393963758851424"
     },
     "user_tz": -330
    },
    "id": "JOkxFkUEYjTw",
    "outputId": "e85091ae-8c6e-4928-fa5e-fa0eea358a89"
   },
   "outputs": [
    {
     "data": {
      "text/plain": [
       "['Dark Knight', 'Dunkirk', 'Pulp Fiction', 'Avatar']"
      ]
     },
     "execution_count": 12,
     "metadata": {},
     "output_type": "execute_result"
    }
   ],
   "source": [
    "movies_title_rdd.collect()"
   ]
  },
  {
   "cell_type": "code",
   "execution_count": null,
   "id": "_2rtRSkDm_2B",
   "metadata": {
    "colab": {
     "base_uri": "https://localhost:8080/"
    },
    "executionInfo": {
     "elapsed": 7,
     "status": "ok",
     "timestamp": 1717441264551,
     "user": {
      "displayName": "Dhuha Rashid",
      "userId": "10823393963758851424"
     },
     "user_tz": -330
    },
    "id": "_2rtRSkDm_2B",
    "outputId": "ebe7ec47-896d-494a-8d5a-c7567c01306f"
   },
   "outputs": [
    {
     "data": {
      "text/plain": [
       "['dark knight', 'dunkirk', 'pulp fiction', 'avatar']"
      ]
     },
     "execution_count": 13,
     "metadata": {},
     "output_type": "execute_result"
    }
   ],
   "source": [
    "movies_rdd.collect()"
   ]
  },
  {
   "cell_type": "code",
   "execution_count": null,
   "id": "TPhb_Qwgm_IR",
   "metadata": {
    "colab": {
     "base_uri": "https://localhost:8080/"
    },
    "executionInfo": {
     "elapsed": 651,
     "status": "ok",
     "timestamp": 1717441267341,
     "user": {
      "displayName": "Dhuha Rashid",
      "userId": "10823393963758851424"
     },
     "user_tz": -330
    },
    "id": "TPhb_Qwgm_IR",
    "outputId": "d1e387aa-d5ff-45a4-c667-a284304afcf6"
   },
   "outputs": [
    {
     "data": {
      "text/plain": [
       "['dark knight', 'dunkirk']"
      ]
     },
     "execution_count": 14,
     "metadata": {},
     "output_type": "execute_result"
    }
   ],
   "source": [
    "movies_rdd.filter(lambda movies : movies[0]=='d').collect()"
   ]
  },
  {
   "cell_type": "code",
   "execution_count": null,
   "id": "frozen-retail",
   "metadata": {
    "colab": {
     "base_uri": "https://localhost:8080/"
    },
    "executionInfo": {
     "elapsed": 591,
     "status": "ok",
     "timestamp": 1717441269754,
     "user": {
      "displayName": "Dhuha Rashid",
      "userId": "10823393963758851424"
     },
     "user_tz": -330
    },
    "id": "frozen-retail",
    "outputId": "12a2ddc2-100c-4b73-bc50-0541b30910d4"
   },
   "outputs": [
    {
     "data": {
      "text/plain": [
       "['Dark Knight', 'Dunkirk']"
      ]
     },
     "execution_count": 15,
     "metadata": {},
     "output_type": "execute_result"
    }
   ],
   "source": [
    "movies_rdd.map(lambda movie: movie.title()).take(2)\n",
    "#transformations -- lazy transformations\n",
    "## once you apply a transformation only the function is created but it is not applied\n",
    "## you need an action to apply the transformation across your rdd"
   ]
  },
  {
   "cell_type": "code",
   "execution_count": null,
   "id": "qRaLQWQbs8sw",
   "metadata": {
    "colab": {
     "base_uri": "https://localhost:8080/",
     "height": 147
    },
    "executionInfo": {
     "elapsed": 452,
     "status": "error",
     "timestamp": 1717441272974,
     "user": {
      "displayName": "Dhuha Rashid",
      "userId": "10823393963758851424"
     },
     "user_tz": -330
    },
    "id": "qRaLQWQbs8sw",
    "outputId": "8a80fa01-4687-4c0c-d2bc-417e52e8ad8a"
   },
   "outputs": [
    {
     "ename": "NameError",
     "evalue": "name 'rdd2' is not defined",
     "output_type": "error",
     "traceback": [
      "\u001b[0;31m---------------------------------------------------------------------------\u001b[0m",
      "\u001b[0;31mNameError\u001b[0m                                 Traceback (most recent call last)",
      "\u001b[0;32m<ipython-input-16-83517eaf6d43>\u001b[0m in \u001b[0;36m<cell line: 1>\u001b[0;34m()\u001b[0m\n\u001b[0;32m----> 1\u001b[0;31m \u001b[0mrdd2\u001b[0m\u001b[0;34m.\u001b[0m\u001b[0mcollect\u001b[0m\u001b[0;34m(\u001b[0m\u001b[0;34m)\u001b[0m\u001b[0;34m\u001b[0m\u001b[0;34m\u001b[0m\u001b[0m\n\u001b[0m",
      "\u001b[0;31mNameError\u001b[0m: name 'rdd2' is not defined"
     ]
    }
   ],
   "source": [
    "rdd2.collect()"
   ]
  },
  {
   "cell_type": "code",
   "execution_count": null,
   "id": "M0ex3LfSsaAT",
   "metadata": {
    "id": "M0ex3LfSsaAT"
   },
   "outputs": [],
   "source": [
    "rdd1=movies_rdd.map(lambda movies :movies.title()).collect()"
   ]
  },
  {
   "cell_type": "code",
   "execution_count": null,
   "id": "ekqK6oMssl9e",
   "metadata": {
    "id": "ekqK6oMssl9e"
   },
   "outputs": [],
   "source": [
    "rdd2=movies_rdd.map(lambda movies : movies.title())"
   ]
  },
  {
   "cell_type": "code",
   "execution_count": null,
   "id": "_Hfe4f86s2Gw",
   "metadata": {
    "colab": {
     "base_uri": "https://localhost:8080/",
     "height": 204
    },
    "executionInfo": {
     "elapsed": 436,
     "status": "ok",
     "timestamp": 1717441282672,
     "user": {
      "displayName": "Dhuha Rashid",
      "userId": "10823393963758851424"
     },
     "user_tz": -330
    },
    "id": "_Hfe4f86s2Gw",
    "outputId": "7b22b14b-71a0-4846-c453-29bd6f5b2622"
   },
   "outputs": [
    {
     "data": {
      "text/html": [
       "<div style=\"max-width:800px; border: 1px solid var(--colab-border-color);\"><style>\n",
       "      pre.function-repr-contents {\n",
       "        overflow-x: auto;\n",
       "        padding: 8px 12px;\n",
       "        max-height: 500px;\n",
       "      }\n",
       "\n",
       "      pre.function-repr-contents.function-repr-contents-collapsed {\n",
       "        cursor: pointer;\n",
       "        max-height: 100px;\n",
       "      }\n",
       "    </style>\n",
       "    <pre style=\"white-space: initial; background:\n",
       "         var(--colab-secondary-surface-color); padding: 8px 12px;\n",
       "         border-bottom: 1px solid var(--colab-border-color);\"><b>pyspark.rdd.PipelinedRDD</b><br/>def __init__(prev: RDD[T], func: Callable[[int, Iterable[T]], Iterable[U]], preservesPartitioning: bool=False, isFromBarrier: bool=False)</pre><pre class=\"function-repr-contents function-repr-contents-collapsed\" style=\"\"><a class=\"filepath\" style=\"display:none\" href=\"#\">/usr/local/lib/python3.10/dist-packages/pyspark/rdd.py</a>Examples\n",
       "--------\n",
       "Pipelined maps:\n",
       "\n",
       "&gt;&gt;&gt; rdd = sc.parallelize([1, 2, 3, 4])\n",
       "&gt;&gt;&gt; rdd.map(lambda x: 2 * x).cache().map(lambda x: 2 * x).collect()\n",
       "[4, 8, 12, 16]\n",
       "&gt;&gt;&gt; rdd.map(lambda x: 2 * x).map(lambda x: 2 * x).collect()\n",
       "[4, 8, 12, 16]\n",
       "\n",
       "Pipelined reduces:\n",
       "\n",
       "&gt;&gt;&gt; from operator import add\n",
       "&gt;&gt;&gt; rdd.map(lambda x: 2 * x).reduce(add)\n",
       "20\n",
       "&gt;&gt;&gt; rdd.flatMap(lambda x: [x, x]).reduce(add)\n",
       "20</pre>\n",
       "      <script>\n",
       "      if (google.colab.kernel.accessAllowed && google.colab.files && google.colab.files.view) {\n",
       "        for (const element of document.querySelectorAll('.filepath')) {\n",
       "          element.style.display = 'block'\n",
       "          element.onclick = (event) => {\n",
       "            event.preventDefault();\n",
       "            event.stopPropagation();\n",
       "            google.colab.files.view(element.textContent, 5395);\n",
       "          };\n",
       "        }\n",
       "      }\n",
       "      for (const element of document.querySelectorAll('.function-repr-contents')) {\n",
       "        element.onclick = (event) => {\n",
       "          event.preventDefault();\n",
       "          event.stopPropagation();\n",
       "          element.classList.toggle('function-repr-contents-collapsed');\n",
       "        };\n",
       "      }\n",
       "      </script>\n",
       "      </div>"
      ],
      "text/plain": [
       "pyspark.rdd.PipelinedRDD"
      ]
     },
     "execution_count": 19,
     "metadata": {},
     "output_type": "execute_result"
    }
   ],
   "source": [
    "type(rdd2)"
   ]
  },
  {
   "cell_type": "code",
   "execution_count": null,
   "id": "Ej56XIDBryHk",
   "metadata": {
    "colab": {
     "base_uri": "https://localhost:8080/"
    },
    "executionInfo": {
     "elapsed": 573,
     "status": "ok",
     "timestamp": 1717441285899,
     "user": {
      "displayName": "Dhuha Rashid",
      "userId": "10823393963758851424"
     },
     "user_tz": -330
    },
    "id": "Ej56XIDBryHk",
    "outputId": "2dac7fe2-ced0-4a2d-b882-121ad2ccc24e"
   },
   "outputs": [
    {
     "data": {
      "text/plain": [
       "['Dark Knight', 'Dunkirk', 'Pulp Fiction', 'Avatar']"
      ]
     },
     "execution_count": 20,
     "metadata": {},
     "output_type": "execute_result"
    }
   ],
   "source": [
    "movies_rdd.map(lambda movies :movies.title()).collect()"
   ]
  },
  {
   "cell_type": "markdown",
   "id": "knowing-bleeding",
   "metadata": {
    "id": "knowing-bleeding"
   },
   "source": [
    "Now as we know, Spark will partition the dataset across the cores of the executors, and then map through the records in parallel, returning all of the results."
   ]
  },
  {
   "cell_type": "markdown",
   "id": "bronze-friend",
   "metadata": {
    "id": "bronze-friend"
   },
   "source": [
    "> <img src=\"https://github.com/jigsawlabs-student/pyspark-rdds/blob/main/parallel.png?raw=1\" width=\"60%\">"
   ]
  },
  {
   "cell_type": "markdown",
   "id": "accredited-processor",
   "metadata": {
    "id": "accredited-processor"
   },
   "source": [
    "Now let's change the function so that this time, instead of returning all of the results, we just return the first result."
   ]
  },
  {
   "cell_type": "code",
   "execution_count": null,
   "id": "floating-louis",
   "metadata": {
    "colab": {
     "base_uri": "https://localhost:8080/"
    },
    "executionInfo": {
     "elapsed": 490,
     "status": "ok",
     "timestamp": 1717441296132,
     "user": {
      "displayName": "Dhuha Rashid",
      "userId": "10823393963758851424"
     },
     "user_tz": -330
    },
    "id": "floating-louis",
    "outputId": "a08ec0dc-e7c0-4b5c-f1e7-46b4702e992a"
   },
   "outputs": [
    {
     "data": {
      "text/plain": [
       "['Dark Knight']"
      ]
     },
     "execution_count": 21,
     "metadata": {},
     "output_type": "execute_result"
    }
   ],
   "source": [
    "movies_rdd.map(lambda movie: movie.title()).take(1)\n"
   ]
  },
  {
   "cell_type": "markdown",
   "id": "expired-leave",
   "metadata": {
    "id": "expired-leave"
   },
   "source": [
    "Now if we think about, this previous step, here we would not have to map through all of the steps just to return a single result.  And it turns out if we look at Spark, we can see that even though the dataset was distributed -- it only needed to perform work on a single partition to return one result."
   ]
  },
  {
   "cell_type": "markdown",
   "id": "accepted-drink",
   "metadata": {
    "id": "accepted-drink"
   },
   "source": [
    "> <img src=\"https://github.com/jigsawlabs-student/pyspark-rdds/blob/main/individual_task.png?raw=1\" width=\"80%\">"
   ]
  },
  {
   "cell_type": "markdown",
   "id": "herbal-future",
   "metadata": {
    "id": "herbal-future"
   },
   "source": [
    "This ability, to see the end result that needs to be returned, and to work efficiently to only take the needed steps to return those results, is a valuable feature when working with large datasets.  And we can better see how Spark accomplishes it in the next section."
   ]
  },
  {
   "cell_type": "markdown",
   "id": "fitting-publisher",
   "metadata": {
    "id": "fitting-publisher"
   },
   "source": [
    "### A little experiment"
   ]
  },
  {
   "cell_type": "markdown",
   "id": "electronic-engagement",
   "metadata": {
    "id": "electronic-engagement"
   },
   "source": [
    "If we run the code below, notice that nothing is returned."
   ]
  },
  {
   "cell_type": "code",
   "execution_count": null,
   "id": "powered-bikini",
   "metadata": {
    "colab": {
     "base_uri": "https://localhost:8080/"
    },
    "executionInfo": {
     "elapsed": 2,
     "status": "ok",
     "timestamp": 1702709773053,
     "user": {
      "displayName": "Rama Chandra Kotturu",
      "userId": "02243285469857073193"
     },
     "user_tz": -330
    },
    "id": "powered-bikini",
    "outputId": "d1759314-cc0a-4834-d7e7-2dad53178c48"
   },
   "outputs": [
    {
     "data": {
      "text/plain": [
       "PythonRDD[12] at RDD at PythonRDD.scala:53"
      ]
     },
     "execution_count": 26,
     "metadata": {},
     "output_type": "execute_result"
    }
   ],
   "source": [
    "movies_rdd.map(lambda movie: movie.title())"
   ]
  },
  {
   "cell_type": "markdown",
   "id": "published-surprise",
   "metadata": {
    "id": "published-surprise"
   },
   "source": [
    "And even if we chain the map and the filter methods, still nothing is returned."
   ]
  },
  {
   "cell_type": "code",
   "execution_count": null,
   "id": "exceptional-saturn",
   "metadata": {
    "colab": {
     "base_uri": "https://localhost:8080/"
    },
    "executionInfo": {
     "elapsed": 739,
     "status": "ok",
     "timestamp": 1702710051253,
     "user": {
      "displayName": "Rama Chandra Kotturu",
      "userId": "02243285469857073193"
     },
     "user_tz": -330
    },
    "id": "exceptional-saturn",
    "outputId": "8bfd1bd5-938f-4995-e1d5-f5ba2e131fd7"
   },
   "outputs": [
    {
     "data": {
      "text/plain": [
       "['Dark Knight', 'Dunkirk']"
      ]
     },
     "execution_count": 30,
     "metadata": {},
     "output_type": "execute_result"
    }
   ],
   "source": [
    "movies_rdd.map(lambda movie: movie.title()).filter(lambda movie: movie[0] == 'D').collect()"
   ]
  },
  {
   "cell_type": "markdown",
   "id": "fossil-toner",
   "metadata": {
    "id": "fossil-toner"
   },
   "source": [
    "It's only when we add a collect function on the end, will some data be returned."
   ]
  },
  {
   "cell_type": "code",
   "execution_count": null,
   "id": "variable-print",
   "metadata": {
    "colab": {
     "base_uri": "https://localhost:8080/"
    },
    "executionInfo": {
     "elapsed": 467,
     "status": "ok",
     "timestamp": 1702710132569,
     "user": {
      "displayName": "Rama Chandra Kotturu",
      "userId": "02243285469857073193"
     },
     "user_tz": -330
    },
    "id": "variable-print",
    "outputId": "ac8fd04d-d156-4848-8754-4d244b9426ff"
   },
   "outputs": [
    {
     "data": {
      "text/plain": [
       "['Dark Knight', 'Dunkirk']"
      ]
     },
     "execution_count": 31,
     "metadata": {},
     "output_type": "execute_result"
    }
   ],
   "source": [
    "movies_rdd.filter(lambda movie: movie[0] == 'd').map(lambda movie: movie.title()).collect()"
   ]
  },
  {
   "cell_type": "markdown",
   "id": "unlimited-civilian",
   "metadata": {
    "id": "unlimited-civilian"
   },
   "source": [
    "So above, nothing was returned when we ran the `map` and `collect` functions, because when we only executed those functions, Spark did not actually act on the data.  Then in the third line we finally did act on the data.  We told Spark that we want to both transform, and filter the data, and then return all of the results.  \n",
    "\n",
    "So it's only when we called the `collect` function that Spark's driver determined the tasks to then send off to the executors and return the results."
   ]
  },
  {
   "cell_type": "markdown",
   "id": "olive-format",
   "metadata": {
    "id": "olive-format"
   },
   "source": [
    "### Transformations and Actions"
   ]
  },
  {
   "cell_type": "markdown",
   "id": "governmental-definition",
   "metadata": {
    "id": "governmental-definition"
   },
   "source": [
    "So above we can see that the functions `map` and `filter` do not actually perform any work on our data.  Instead steps are only kicked off when we call the `collect` method.  "
   ]
  },
  {
   "cell_type": "markdown",
   "id": "flush-remains",
   "metadata": {
    "id": "flush-remains"
   },
   "source": [
    "In Spark, the methods that kick off tasks and return results are called **actions** (eg. collect).  And methods like `map` and `transform` that do not are called **transformations**.  "
   ]
  },
  {
   "cell_type": "markdown",
   "id": "noted-exposure",
   "metadata": {
    "id": "noted-exposure"
   },
   "source": [
    "1. Transformations"
   ]
  },
  {
   "cell_type": "markdown",
   "id": "protected-biology",
   "metadata": {
    "id": "protected-biology"
   },
   "source": [
    "So we already saw that transformations include `map` and `filter`, and our transformations do not actually return results to our users.  Here's a couple other transformations."
   ]
  },
  {
   "cell_type": "markdown",
   "id": "imported-writer",
   "metadata": {
    "id": "imported-writer"
   },
   "source": [
    "* sample"
   ]
  },
  {
   "cell_type": "markdown",
   "id": "intense-swedish",
   "metadata": {
    "id": "intense-swedish"
   },
   "source": [
    "The `sample` method allows us to take a random sample from our dataset.  "
   ]
  },
  {
   "cell_type": "code",
   "execution_count": null,
   "id": "tHuEk_rsYasr",
   "metadata": {
    "id": "tHuEk_rsYasr"
   },
   "outputs": [],
   "source": []
  },
  {
   "cell_type": "code",
   "execution_count": null,
   "id": "major-familiar",
   "metadata": {
    "colab": {
     "base_uri": "https://localhost:8080/"
    },
    "executionInfo": {
     "elapsed": 466,
     "status": "ok",
     "timestamp": 1717441351905,
     "user": {
      "displayName": "Dhuha Rashid",
      "userId": "10823393963758851424"
     },
     "user_tz": -330
    },
    "id": "major-familiar",
    "outputId": "a8deafae-9545-40df-e5b4-5c0141ff1a08"
   },
   "outputs": [
    {
     "data": {
      "text/plain": [
       "['dark knight', 'dunkirk', 'pulp fiction', 'avatar']"
      ]
     },
     "execution_count": 22,
     "metadata": {},
     "output_type": "execute_result"
    }
   ],
   "source": [
    "movies_rdd.sample(fraction = 0.5, withReplacement = False).collect()"
   ]
  },
  {
   "cell_type": "markdown",
   "id": "considered-copper",
   "metadata": {
    "id": "considered-copper"
   },
   "source": [
    "> Notice that it does not return any data."
   ]
  },
  {
   "cell_type": "markdown",
   "id": "supreme-idaho",
   "metadata": {
    "id": "supreme-idaho"
   },
   "source": [
    "* distinct"
   ]
  },
  {
   "cell_type": "code",
   "execution_count": null,
   "id": "handed-tennis",
   "metadata": {
    "colab": {
     "base_uri": "https://localhost:8080/"
    },
    "executionInfo": {
     "elapsed": 1646,
     "status": "ok",
     "timestamp": 1702710385004,
     "user": {
      "displayName": "Rama Chandra Kotturu",
      "userId": "02243285469857073193"
     },
     "user_tz": -330
    },
    "id": "handed-tennis",
    "outputId": "40acbc8c-01dd-4857-f011-5915450a40c7"
   },
   "outputs": [
    {
     "data": {
      "text/plain": [
       "['dark knight', 'dunkirk', 'pulp fiction', 'avatar']"
      ]
     },
     "execution_count": 41,
     "metadata": {},
     "output_type": "execute_result"
    }
   ],
   "source": [
    "movies_rdd.distinct().collect()"
   ]
  },
  {
   "cell_type": "markdown",
   "id": "frequent-accounting",
   "metadata": {
    "id": "frequent-accounting"
   },
   "source": [
    "> Distinct finds the unique results.  Notice that it also does not return data."
   ]
  },
  {
   "cell_type": "markdown",
   "id": "sustainable-tension",
   "metadata": {
    "id": "sustainable-tension"
   },
   "source": [
    "Finally, we have already seen `map`, which provides a one to one transformation of our records, and `select` which filters our data.  In each case, our transformations do not return data to us."
   ]
  },
  {
   "cell_type": "markdown",
   "id": "endless-columbus",
   "metadata": {
    "id": "endless-columbus"
   },
   "source": [
    "2. Actions"
   ]
  },
  {
   "cell_type": "markdown",
   "id": "happy-parts",
   "metadata": {
    "id": "happy-parts"
   },
   "source": [
    "Actions are a bit more about the end result.  So far we've learned about `collect`, which returns *all* of the results of a series of transformations.  \n",
    "\n",
    "* Take\n",
    "\n",
    "We've also seen `take`, which limits our results to a subset."
   ]
  },
  {
   "cell_type": "code",
   "execution_count": null,
   "id": "radical-spotlight",
   "metadata": {
    "colab": {
     "base_uri": "https://localhost:8080/"
    },
    "executionInfo": {
     "elapsed": 1203,
     "status": "ok",
     "timestamp": 1702710412006,
     "user": {
      "displayName": "Rama Chandra Kotturu",
      "userId": "02243285469857073193"
     },
     "user_tz": -330
    },
    "id": "radical-spotlight",
    "outputId": "0c8093ec-1828-4dd9-f3fd-d2da8a05506a"
   },
   "outputs": [
    {
     "data": {
      "text/plain": [
       "['dark knight', 'dunkirk']"
      ]
     },
     "execution_count": 42,
     "metadata": {},
     "output_type": "execute_result"
    }
   ],
   "source": [
    "movies_rdd.distinct().take(2)"
   ]
  },
  {
   "cell_type": "markdown",
   "id": "hindu-diagram",
   "metadata": {
    "id": "hindu-diagram"
   },
   "source": [
    "> So `take` is similar to the `LIMIT` function in SQL. Notice that here our records are returned."
   ]
  },
  {
   "cell_type": "markdown",
   "id": "active-lending",
   "metadata": {
    "id": "active-lending"
   },
   "source": [
    "* Count"
   ]
  },
  {
   "cell_type": "code",
   "execution_count": null,
   "id": "mathematical-advice",
   "metadata": {
    "colab": {
     "base_uri": "https://localhost:8080/"
    },
    "executionInfo": {
     "elapsed": 1207,
     "status": "ok",
     "timestamp": 1702710417047,
     "user": {
      "displayName": "Rama Chandra Kotturu",
      "userId": "02243285469857073193"
     },
     "user_tz": -330
    },
    "id": "mathematical-advice",
    "outputId": "d38c9f89-282f-40dc-9c36-c85a814305a9"
   },
   "outputs": [
    {
     "data": {
      "text/plain": [
       "4"
      ]
     },
     "execution_count": 43,
     "metadata": {},
     "output_type": "execute_result"
    }
   ],
   "source": [
    "movies_rdd.distinct().count()"
   ]
  },
  {
   "cell_type": "markdown",
   "id": "asian-hepatitis",
   "metadata": {
    "id": "asian-hepatitis"
   },
   "source": [
    "Count simply counts the results."
   ]
  }
 ],
 "metadata": {
  "colab": {
   "provenance": []
  },
  "kernelspec": {
   "display_name": "Python 3 (ipykernel)",
   "language": "python",
   "name": "python3"
  },
  "language_info": {
   "codemirror_mode": {
    "name": "ipython",
    "version": 3
   },
   "file_extension": ".py",
   "mimetype": "text/x-python",
   "name": "python",
   "nbconvert_exporter": "python",
   "pygments_lexer": "ipython3",
   "version": "3.12.4"
  }
 },
 "nbformat": 4,
 "nbformat_minor": 5
}
